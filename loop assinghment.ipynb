{
 "cells": [
  {
   "cell_type": "markdown",
   "id": "4ec97cc3",
   "metadata": {},
   "source": [
    " for loop is way to repeat code again and again \n",
    " number  "
   ]
  },
  {
   "cell_type": "code",
   "execution_count": 1,
   "id": "24690489",
   "metadata": {},
   "outputs": [
    {
     "name": "stdout",
     "output_type": "stream",
     "text": [
      "1\n",
      "2\n",
      "3\n",
      "4\n",
      "5\n",
      "6\n",
      "7\n",
      "8\n",
      "9\n",
      "10\n"
     ]
    }
   ],
   "source": [
    "for number in range(1,11):\n",
    "    print(number)"
   ]
  },
  {
   "cell_type": "markdown",
   "id": "1235f50c",
   "metadata": {},
   "source": [
    "while loop is used to repeat if condition is true \n",
    "if condition is false the loop stop "
   ]
  },
  {
   "cell_type": "code",
   "execution_count": null,
   "id": "d013d279",
   "metadata": {},
   "outputs": [
    {
     "name": "stdout",
     "output_type": "stream",
     "text": [
      "1\n",
      "2\n",
      "3\n",
      "4\n",
      "5\n"
     ]
    }
   ],
   "source": [
    "number = 1\n",
    "while number <= 5:   # repeat the loop while the number is less than or equal to 5\n",
    "    print(number)\n",
    "    number = number + 1  #increase the number by 1 each time "
   ]
  },
  {
   "cell_type": "markdown",
   "id": "8688d653",
   "metadata": {},
   "source": []
  },
  {
   "cell_type": "code",
   "execution_count": 1,
   "id": "2da0ef2d",
   "metadata": {},
   "outputs": [
    {
     "name": "stdout",
     "output_type": "stream",
     "text": [
      "5\n",
      "4\n",
      "3\n",
      "2\n",
      "1\n"
     ]
    }
   ],
   "source": [
    "number = 5\n",
    "while number >= 1:\n",
    "      print(number)\n",
    "      number = number - 1"
   ]
  },
  {
   "cell_type": "code",
   "execution_count": 3,
   "id": "76f01af0",
   "metadata": {},
   "outputs": [
    {
     "name": "stdout",
     "output_type": "stream",
     "text": [
      "1. 1 * 1 = 1\n",
      "2. 1 * 2 = 2\n",
      "3. 1 * 3 = 3\n",
      "4. 2 * 1 = 2\n",
      "5. 2 * 2 = 4\n",
      "6. 2 * 3 = 6\n",
      "7. 3 * 1 = 3\n",
      "8. 3 * 2 = 6\n",
      "9. 3 * 3 = 9\n"
     ]
    }
   ],
   "source": [
    "line_number = 1\n",
    "for i in range(1, 4):\n",
    "    for j in range(1, 4):\n",
    "        print(f\"{line_number}. {i} * {j} = {i * j}\")\n",
    "        line_number += 1"
   ]
  },
  {
   "cell_type": "markdown",
   "id": "c0225bd8",
   "metadata": {},
   "source": [
    "USING BREAK "
   ]
  },
  {
   "cell_type": "code",
   "execution_count": 5,
   "id": "831dfdff",
   "metadata": {},
   "outputs": [
    {
     "name": "stdout",
     "output_type": "stream",
     "text": [
      "0\n",
      "1\n",
      "2\n",
      "3\n",
      "4\n",
      "5\n",
      "6\n",
      "7\n",
      "8\n"
     ]
    }
   ],
   "source": [
    "for number in range(0, 15):\n",
    "    if number == 9:\n",
    "        break\n",
    "    print(number)"
   ]
  },
  {
   "cell_type": "code",
   "execution_count": 6,
   "id": "23103b5d",
   "metadata": {},
   "outputs": [
    {
     "name": "stdout",
     "output_type": "stream",
     "text": [
      "0\n",
      "1\n",
      "2\n",
      "4\n",
      "5\n"
     ]
    }
   ],
   "source": [
    "for number in range(0, 6):\n",
    "    if number == 3:\n",
    "        continue\n",
    "    print(number)"
   ]
  },
  {
   "cell_type": "code",
   "execution_count": null,
   "id": "a5218623",
   "metadata": {},
   "outputs": [],
   "source": [
    "word = input(\"enter a word: \")\n",
    "for letter in word:\n",
    "    print(letter)"
   ]
  },
  {
   "cell_type": "code",
   "execution_count": null,
   "id": "b3c9628e",
   "metadata": {},
   "outputs": [],
   "source": [
    "name = input(\"what is your name? \")\n",
    "print(\"hello, \"+ name + \"!\" )"
   ]
  }
 ],
 "metadata": {
  "kernelspec": {
   "display_name": "Python 3",
   "language": "python",
   "name": "python3"
  },
  "language_info": {
   "codemirror_mode": {
    "name": "ipython",
    "version": 3
   },
   "file_extension": ".py",
   "mimetype": "text/x-python",
   "name": "python",
   "nbconvert_exporter": "python",
   "pygments_lexer": "ipython3",
   "version": "3.12.9"
  }
 },
 "nbformat": 4,
 "nbformat_minor": 5
}
